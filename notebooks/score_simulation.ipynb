{
 "cells": [
  {
   "cell_type": "code",
   "execution_count": 1,
   "metadata": {},
   "outputs": [],
   "source": [
    "import pandas as pd\n",
    "import numpy as np\n",
    "import itertools\n",
    "from functools import lru_cache\n",
    "import matplotlib.pyplot as plt"
   ]
  },
  {
   "cell_type": "code",
   "execution_count": 2,
   "metadata": {},
   "outputs": [
    {
     "name": "stdout",
     "output_type": "stream",
     "text": [
      "[0.37454012 0.95071431]\n",
      "[0.38977042 0.93346513 0.94608013 0.38221447 0.39033225 0.94509143\n",
      " 0.381017   0.95613991 0.37219875 0.36984537 0.37219859 0.9315815\n",
      " 0.94605701 0.95313393]\n"
     ]
    }
   ],
   "source": [
    "n_items = 14\n",
    "k = 2\n",
    "n_clusters = 2\n",
    "cluster_sizes = n_items//n_clusters\n",
    "\n",
    "np.random.seed(42)\n",
    "\n",
    "mean_seq = np.random.rand(n_clusters)\n",
    "\n",
    "qualities = np.repeat(mean_seq, cluster_sizes, axis=0)\n",
    "qualities += np.random.normal(scale=0.01, size=qualities.shape)\n",
    "np.random.shuffle(qualities)\n",
    "print(mean_seq)\n",
    "print(qualities)"
   ]
  },
  {
   "cell_type": "code",
   "execution_count": null,
   "metadata": {},
   "outputs": [],
   "source": [
    "def generate_sequences(arr, k):\n",
    "    # Convert the input to a tuple for consistent ordering and caching\n",
    "    arr = tuple(arr)\n",
    "    \n",
    "    @lru_cache(maxsize=None)\n",
    "    def helper(remaining):\n",
    "        # remaining is a tuple of available items\n",
    "        if not remaining:\n",
    "            # Base case: no items remain → one valid (empty) partition.\n",
    "            return ((),)  # A tuple containing an empty tuple\n",
    "        sequences = []\n",
    "        # Iterate over all k-combinations from remaining items.\n",
    "        for comb in itertools.combinations(remaining, k):\n",
    "            # Create a set from comb for fast membership testing.\n",
    "            set_comb = set(comb)\n",
    "            # Build new_remaining by filtering out items in comb.\n",
    "            new_remaining = tuple(x for x in remaining if x not in set_comb)\n",
    "            # For each valid partition of the new_remaining items,\n",
    "            # prepend the current combination.\n",
    "            for seq in helper(new_remaining):\n",
    "                sequences.append((comb,) + seq)\n",
    "        return tuple(sequences)\n",
    "    \n",
    "    # Generate all partitions from the full set of items.\n",
    "    all_seq = helper(arr)\n",
    "    return np.array(all_seq, dtype=object)\n",
    "\n",
    "\n",
    "# Example usage:\n",
    "n_items = 14\n",
    "k = 2\n",
    "all_sequences = generate_sequences(range(n_items), k)\n",
    "print(f\"Number of sequences for {n_items} items and groups of {k}: {len(all_sequences)}\")\n"
   ]
  },
  {
   "cell_type": "code",
   "execution_count": null,
   "metadata": {},
   "outputs": [
    {
     "name": "stdout",
     "output_type": "stream",
     "text": [
      "n sequences: 7484400\n"
     ]
    }
   ],
   "source": [
    "# # Function to generate sequences without replacement\n",
    "# def generate_sequences(arr, k):\n",
    "#     def helper(remaining, current_sequence):\n",
    "#         if not remaining:\n",
    "#             sequences.append(current_sequence)\n",
    "#             return\n",
    "#         for comb in itertools.combinations(remaining, k):\n",
    "#             new_remaining = [x for x in remaining if x not in comb]\n",
    "#             new_sequence = current_sequence + [comb]\n",
    "#             helper(new_remaining, new_sequence)\n",
    "\n",
    "#     sequences = []\n",
    "#     helper(arr, [])\n",
    "#     return np.array(sequences, dtype=object)\n",
    "\n",
    "# n_items = 12\n",
    "# k = 2\n",
    "# all_sequences = generate_sequences(range(n_items), k)\n",
    "# print(f\"n sequences: {len(all_sequences)}\")"
   ]
  },
  {
   "cell_type": "code",
   "execution_count": 4,
   "metadata": {},
   "outputs": [],
   "source": [
    "means = qualities[all_sequences].mean(axis=2)\n",
    "mean_diffs = np.insert(abs(np.diff(means, axis=1)), 0, 0, axis=1)\n",
    "vars = qualities[all_sequences].var(axis=2)\n",
    "\n",
    "rewards = -vars-mean_diffs\n",
    "total_rewards = rewards.sum(axis=1)"
   ]
  },
  {
   "cell_type": "code",
   "execution_count": 7,
   "metadata": {},
   "outputs": [
    {
     "data": {
      "image/png": "[encoded data removed]",
      "text/plain": [
       "<Figure size 640x480 with 1 Axes>"
      ]
     },
     "metadata": {},
     "output_type": "display_data"
    }
   ],
   "source": [
    "plt.plot(sorted(total_rewards))\n",
    "plt.show()"
   ]
  },
  {
   "cell_type": "code",
   "execution_count": 27,
   "metadata": {},
   "outputs": [
    {
     "data": {
      "text/plain": [
       "array([1, 1, 2, 3, 3, 4, 5, 5, 5, 6, 9])"
      ]
     },
     "execution_count": 27,
     "metadata": {},
     "output_type": "execute_result"
    }
   ],
   "source": [
    "arr = np.array([3, 1, 4, 1, 5, 9, 2, 6, 5, 3, 5])\n",
    "\n",
    "# Get sorted indices\n",
    "sorted_indices = np.argsort(arr)\n",
    "arr[sorted_indices]"
   ]
  },
  {
   "cell_type": "code",
   "execution_count": 49,
   "metadata": {},
   "outputs": [
    {
     "data": {
      "text/plain": [
       "array([[[4, 5],\n",
       "        [1, 3],\n",
       "        [6, 8],\n",
       "        [0, 9],\n",
       "        [2, 7]],\n",
       "\n",
       "       [[2, 7],\n",
       "        [0, 9],\n",
       "        [6, 8],\n",
       "        [1, 3],\n",
       "        [4, 5]],\n",
       "\n",
       "       [[2, 7],\n",
       "        [0, 9],\n",
       "        [3, 8],\n",
       "        [1, 6],\n",
       "        [4, 5]],\n",
       "\n",
       "       [[4, 5],\n",
       "        [1, 6],\n",
       "        [3, 8],\n",
       "        [0, 9],\n",
       "        [2, 7]],\n",
       "\n",
       "       [[5, 9],\n",
       "        [1, 3],\n",
       "        [6, 8],\n",
       "        [0, 4],\n",
       "        [2, 7]]], dtype=object)"
      ]
     },
     "execution_count": 49,
     "metadata": {},
     "output_type": "execute_result"
    }
   ],
   "source": [
    "selected_sequences"
   ]
  },
  {
   "cell_type": "code",
   "execution_count": 56,
   "metadata": {},
   "outputs": [
    {
     "data": {
      "image/png": "[encoded data removed]",
      "text/plain": [
       "<Figure size 640x480 with 1 Axes>"
      ]
     },
     "metadata": {},
     "output_type": "display_data"
    }
   ],
   "source": [
    "top_seq_ind = np.argsort(total_rewards)[::-1][:5]\n",
    "#selected_sequences = all_sequences[top_seq_ind]\n",
    "#selected_values = np.array([[qualities[list(grp)] for grp in seq] for seq in selected_sequences])\n",
    "flop_seq_ind = np.argsort(total_rewards)[:5]\n",
    "\n",
    "plt.plot(rewards[top_seq_ind], marker='.', color='g')\n",
    "plt.plot(rewards[flop_seq_ind], marker='.', color='r')\n",
    "plt.ylim(-1,0)\n",
    "plt.show()"
   ]
  },
  {
   "cell_type": "code",
   "execution_count": 47,
   "metadata": {},
   "outputs": [],
   "source": [
    "selected_sequences = all_sequences[top_seq_ind]\n",
    "selected_values = np.array([[qualities[list(grp)] for grp in seq] for seq in selected_sequences])"
   ]
  }
 ],
 "metadata": {
  "kernelspec": {
   "display_name": "LaydownAgent",
   "language": "python",
   "name": "python3"
  },
  "language_info": {
   "codemirror_mode": {
    "name": "ipython",
    "version": 3
   },
   "file_extension": ".py",
   "mimetype": "text/x-python",
   "name": "python",
   "nbconvert_exporter": "python",
   "pygments_lexer": "ipython3",
   "version": "3.11.11"
  }
 },
 "nbformat": 4,
 "nbformat_minor": 2
}
