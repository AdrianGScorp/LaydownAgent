{
 "cells": [
  {
   "cell_type": "code",
   "execution_count": 1,
   "metadata": {},
   "outputs": [],
   "source": [
    "import numpy as np\n",
    "import pandas as pd\n",
    "import matplotlib.pyplot as plt\n",
    "import seaborn as sns\n",
    "from sklearn.decomposition import PCA"
   ]
  },
  {
   "cell_type": "code",
   "execution_count": 114,
   "metadata": {},
   "outputs": [],
   "source": [
    "def generate_synthetic_clusters(sample_size, n_clusters, n_dims, spread=0.1, split_evan=True, label_clusters=True, random_state=None):\n",
    "    \"\"\"\n",
    "    Generates synthetic clustered data in a multidimensional space.\n",
    "    \n",
    "    Parameters:\n",
    "    - sample_size (int): Total number of samples to generate across all clusters.\n",
    "    - n_clusters (int): Number of clusters to create.\n",
    "    - n_dims (int): Number of dimensions (features) for each data point.\n",
    "    - spread (float, optional): Standard deviation of each cluster, controlling how dispersed the points are. Default is 0.1.\n",
    "    - split_evan (bool, optional): If True, distributes samples evenly across clusters. If False, assigns samples randomly. Default is True.\n",
    "    - label_clusters (bool, optional): If True, includes cluster labels in the output DataFrame. Default is True.\n",
    "    - random_state (int, optional): Seed for random number generation to ensure reproducibility. Default is None.\n",
    "    \n",
    "    Returns:\n",
    "    - pd.DataFrame: A DataFrame containing the generated data points with `n_dims` features. If `label_clusters` is True, an additional\n",
    "      'label' column is included representing cluster assignments.\n",
    "    \"\"\"\n",
    "    np.random.seed(random_state)\n",
    "    \n",
    "    # Generate random cluster centers within [0, 1] for all dimensions\n",
    "    centers = np.random.rand(n_clusters, n_dims)\n",
    "\n",
    "    if split_evan:\n",
    "        # Generate equal number of samples per cluster\n",
    "        cluster_size = sample_size // n_clusters\n",
    "        remainder = sample_size % n_clusters\n",
    "        samples_per_cluster = [cluster_size] * n_clusters\n",
    "        # Distribute remainder to the first 'remainder' clusters\n",
    "        if remainder==1:\n",
    "            remainder_idx = np.random.choice(n_clusters)\n",
    "            samples_per_cluster[remainder_idx] += 1\n",
    "    else:\n",
    "        # Generate random number of samples per cluster\n",
    "        split_points = sorted(np.random.choice(range(1, sample_size), n_clusters - 1))\n",
    "        samples_per_cluster = [split_points[0]] + [split_points[i] - split_points[i - 1] for i in range(1, len(split_points))] + [sample_size - split_points[-1]]\n",
    "    \n",
    "    data = []\n",
    "    labels = []\n",
    "    for cluster_idx in range(n_clusters):\n",
    "        # Generate points around the cluster center using normal distribution\n",
    "        cluster_data = np.random.normal(\n",
    "            loc=centers[cluster_idx],\n",
    "            scale=spread,\n",
    "            size=(samples_per_cluster[cluster_idx], n_dims)\n",
    "        )\n",
    "        \n",
    "        # Clip data to ensure values stay within [0, 1]\n",
    "        cluster_data = np.clip(cluster_data, 0.0, 1.0)\n",
    "        \n",
    "        # Append cluster data and labels\n",
    "        data.append(cluster_data)\n",
    "        labels.extend([cluster_idx] * samples_per_cluster[cluster_idx])\n",
    "    \n",
    "    # Combine all clusters into single array\n",
    "    data = np.vstack(data)\n",
    "    labels = np.array(labels)\n",
    "\n",
    "    # create a random permutation of the data\n",
    "    permutation = np.random.permutation(data.shape[0])\n",
    "    data = data[permutation]\n",
    "    labels = labels[permutation]\n",
    "\n",
    "    # create dataframe\n",
    "    df = pd.DataFrame(data)\n",
    "    if label_clusters:\n",
    "        df['label'] = labels\n",
    "    \n",
    "    return df"
   ]
  },
  {
   "cell_type": "code",
   "execution_count": 116,
   "metadata": {},
   "outputs": [],
   "source": [
    "def visualize_clusters(df, label_clusters=True):\n",
    "    \"\"\"\n",
    "    Visualizes the clustered data using a scatterplot.\n",
    "    If the data has more than 2 dimensions, PCA is applied to reduce it to 2D.\n",
    "    \n",
    "    Parameters:\n",
    "    - df (pd.DataFrame): The DataFrame containing the synthetic cluster data.\n",
    "    - label_clusters (bool, optional): Whether to color points based on cluster labels. Default is True.\n",
    "    \n",
    "    Returns:\n",
    "    - None: Displays a scatter plot of the clustered data.\n",
    "    \"\"\"\n",
    "    # Extract features (all columns except 'label' if present)\n",
    "    if label_clusters and 'label' in df.columns:\n",
    "        features = df.drop(columns=['label'])\n",
    "        labels = df['label']\n",
    "    else:\n",
    "        features = df\n",
    "        labels = None\n",
    "    \n",
    "    if features.shape[1] == 1:\n",
    "        x_data = features.iloc[:, 0]\n",
    "        sns.histplot(x=x_data, hue=labels if label_clusters and labels is not None else None, kde=True, bins=20, palette='viridis', alpha=0.6)\n",
    "        plt.xlabel(\"Value\")\n",
    "        plt.ylabel(\"Frequency\")\n",
    "\n",
    "    else:\n",
    "        if features.shape[1] == 2:\n",
    "            x_data, y_data = features.iloc[:, 0], features.iloc[:, 1]\n",
    "        else:\n",
    "            # Reduce dimensionality if necessary\n",
    "            pca = PCA(n_components=2)\n",
    "            features_pca = pca.fit_transform(features)\n",
    "            x_data, y_data = features_pca[:, 0], features_pca[:, 1]\n",
    "        \n",
    "        # Create scatter plot\n",
    "        plt.figure(figsize=(8, 6))\n",
    "        sns.scatterplot(\n",
    "            x=x_data,\n",
    "            y=y_data,\n",
    "            hue=labels if label_clusters and labels is not None else None, \n",
    "            palette='viridis', \n",
    "            edgecolor='k', \n",
    "            alpha=0.7\n",
    "        )\n",
    "        plt.xlabel(\"Component 1\" if features.shape[1] > 2 else \"Feature 1\")\n",
    "        plt.ylabel(\"Component 2\" if features.shape[1] > 2 else \"Feature 2\")\n",
    "        plt.title(\"Data Visualization (PCA)\" if features.shape[1] > 2 else \"Data Visualization\")\n",
    "        plt.legend(title=\"Cluster\" if label_clusters and labels is not None else None)\n",
    "        plt.show()"
   ]
  },
  {
   "cell_type": "code",
   "execution_count": 121,
   "metadata": {},
   "outputs": [
    {
     "name": "stdout",
     "output_type": "stream",
     "text": [
      "Data shape: (100, 2)\n",
      "size per cluster:\n",
      "label\n",
      "0    34\n",
      "1    33\n",
      "2    33\n",
      "Name: count, dtype: int64\n",
      "data:\n",
      "          0  label\n",
      "0  0.716186      2\n",
      "1  0.951989      1\n",
      "2  0.404712      0\n",
      "3  0.395391      0\n",
      "4  0.959349      1\n"
     ]
    }
   ],
   "source": [
    "# Generate 3 clusters in 2D space with 100 points per cluster\n",
    "df = generate_synthetic_clusters(\n",
    "    sample_size=100,\n",
    "    n_clusters=3,\n",
    "    n_dims=1,\n",
    "    spread=0.05,\n",
    "    split_evan=True,\n",
    "    label_clusters=True,\n",
    "    random_state=42\n",
    ")\n",
    "\n",
    "print(f\"Data shape: {df.shape}\")\n",
    "if 'label' in df.columns:\n",
    "    print(f\"size per cluster:\\n{df['label'].value_counts().sort_index()}\")\n",
    "print(f\"data:\\n{df.head()}\")"
   ]
  },
  {
   "cell_type": "code",
   "execution_count": 122,
   "metadata": {},
   "outputs": [
    {
     "data": {
      "image/png": "[encoded data removed]",
      "text/plain": [
       "<Figure size 640x480 with 1 Axes>"
      ]
     },
     "metadata": {},
     "output_type": "display_data"
    }
   ],
   "source": [
    "visualize_clusters(df, label_clusters=True)"
   ]
  },
  {
   "cell_type": "code",
   "execution_count": null,
   "metadata": {},
   "outputs": [],
   "source": []
  }
 ],
 "metadata": {
  "kernelspec": {
   "display_name": "LaydownAgent",
   "language": "python",
   "name": "python3"
  },
  "language_info": {
   "codemirror_mode": {
    "name": "ipython",
    "version": 3
   },
   "file_extension": ".py",
   "mimetype": "text/x-python",
   "name": "python",
   "nbconvert_exporter": "python",
   "pygments_lexer": "ipython3",
   "version": "3.11.11"
  }
 },
 "nbformat": 4,
 "nbformat_minor": 2
}
